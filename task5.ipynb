{
 "cells": [
  {
   "cell_type": "code",
   "execution_count": 19,
   "metadata": {},
   "outputs": [],
   "source": [
    "from pyspark.sql import SparkSession\n",
    "from pyspark.sql import functions as F"
   ]
  },
  {
   "cell_type": "code",
   "execution_count": 20,
   "metadata": {},
   "outputs": [],
   "source": [
    "# Создаем сессию Spark\n",
    "spark = SparkSession.builder.appName(\"SalesAnalysis\").getOrCreate()"
   ]
  },
  {
   "cell_type": "code",
   "execution_count": 21,
   "metadata": {},
   "outputs": [],
   "source": [
    "# Чтение данных из файла csv\n",
    "df = spark.read.csv(\"data.csv\", header=True)"
   ]
  },
  {
   "cell_type": "code",
   "execution_count": 22,
   "metadata": {},
   "outputs": [],
   "source": [
    "# Фильтруйте данные, чтобы оставить только книги, продажи которых превышают 3000 экземпляров\n",
    "filtered_df = df.filter(df[\"sales\"] > 3000)"
   ]
  },
  {
   "cell_type": "code",
   "execution_count": 23,
   "metadata": {},
   "outputs": [],
   "source": [
    "# Сгруппируйте данные по жанру и вычислите общий объем продаж для каждого жанра\n",
    "genre_sales_df = filtered_df.groupBy(\"genre\").agg(F.sum(\"sales\").alias(\"total_sales\"))"
   ]
  },
  {
   "cell_type": "code",
   "execution_count": 24,
   "metadata": {},
   "outputs": [],
   "source": [
    "# Отсортируйте данные по общему объему продаж в порядке убывания\n",
    "sorted_genre_sales_df = genre_sales_df.sort(F.desc(\"total_sales\"))"
   ]
  },
  {
   "cell_type": "code",
   "execution_count": 25,
   "metadata": {},
   "outputs": [
    {
     "name": "stdout",
     "output_type": "stream",
     "text": [
      "+------------------+-----------+\n",
      "|             genre|total_sales|\n",
      "+------------------+-----------+\n",
      "| \"Science Fiction\"|     5000.0|\n",
      "|           \"Novel\"|     4500.0|\n",
      "| \"Southern Gothic\"|     4000.0|\n",
      "+------------------+-----------+\n",
      "\n"
     ]
    }
   ],
   "source": [
    "# Выведите результаты на экран\n",
    "sorted_genre_sales_df.show()"
   ]
  }
 ],
 "metadata": {
  "kernelspec": {
   "display_name": "base",
   "language": "python",
   "name": "python3"
  },
  "language_info": {
   "codemirror_mode": {
    "name": "ipython",
    "version": 3
   },
   "file_extension": ".py",
   "mimetype": "text/x-python",
   "name": "python",
   "nbconvert_exporter": "python",
   "pygments_lexer": "ipython3",
   "version": "3.11.7"
  }
 },
 "nbformat": 4,
 "nbformat_minor": 2
}
